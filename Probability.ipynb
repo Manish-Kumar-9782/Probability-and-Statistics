{
 "cells": [
  {
   "cell_type": "markdown",
   "metadata": {},
   "source": [
    "## Random variable"
   ]
  },
  {
   "cell_type": "code",
   "execution_count": 44,
   "metadata": {},
   "outputs": [],
   "source": [
    "import matplotlib.pyplot as plt"
   ]
  },
  {
   "cell_type": "code",
   "execution_count": 6,
   "metadata": {},
   "outputs": [],
   "source": [
    "fairdie1 = [1,2,3,4,5,6]\n",
    "fairdie2 = [1,2,3,4,5,6]"
   ]
  },
  {
   "cell_type": "code",
   "execution_count": 106,
   "metadata": {},
   "outputs": [],
   "source": [
    "# all possible combiniton \n",
    "\n",
    "def all_possible_outcomes(n1,n2):\n",
    "    \n",
    "    combination = []\n",
    "\n",
    "    for i in n1:\n",
    "        for j in n2:\n",
    "            \n",
    "            combination.append((i,j))\n",
    "        \n",
    "    return combination\n",
    "\n",
    "    \n",
    "def multiply(iterable):\n",
    "    result = 1\n",
    "    \n",
    "    for i in iterable:\n",
    "        result *= i\n",
    "        \n",
    "    return result\n",
    "\n",
    "def probability(total_outcomes, selected_outcomes):\n",
    "    \n",
    "    return selected_outcomes/total_outcomes\n",
    "\n",
    "\n",
    "def transform_mul_sum(outcomes):\n",
    "    outcomes_sum =[]\n",
    "    outcomes_multi=[]\n",
    "    \n",
    "      # first compute the total distrubution of the sets regarding their function\n",
    "    for i in outcomes:\n",
    "        outcomes_sum.append(sum(i))\n",
    "        outcomes_multi.append(multiply(i))\n",
    "        \n",
    "    return outcomes_sum, outcomes_multi\n",
    "\n",
    "def dis_mapping(drv):\n",
    "    \n",
    "    mapping = {}\n",
    "    \n",
    "    for i in drv:\n",
    "        \n",
    "        if i in mapping.keys():\n",
    "            \n",
    "            mapping[i]= mapping[i]+1\n",
    "            \n",
    "        else:\n",
    "            mapping[i] = 1\n",
    "   \n",
    "    return mapping\n",
    "    \n",
    "\n",
    "def PMFD(probability_distribution_set, total_outcomes ):\n",
    "    \n",
    "    PMFD = []\n",
    "    \n",
    "    for key in probability_distribution_set:\n",
    "        \n",
    "        # p(a) => P(X=a)\n",
    "        # counting the probability mass function distribution for the given set\n",
    "        \n",
    "        p_of_x = probability_distribution_set[key]/total_outcomes\n",
    "        \n",
    "        PMFD.append (p_of_x)\n",
    "        \n",
    "    return PMFD\n",
    "\n",
    "def dis_func(PMFD,X):\n",
    "    \n",
    "    distribution = []\n",
    "    # Here X is the varibale for which probability is measured\n",
    "    df_sum = 0\n",
    "    # F(an) = p(a1)+ p(a2) + p(a3) + p(a4) + p(a5) +.......+p(an)\n",
    "    \n",
    "    if len(X) == len(PMFD):\n",
    "        \n",
    "        for i in range(len(X)):\n",
    "            \n",
    "            df_sum += PMFD[i]\n",
    "            distribution.append(df_sum)\n",
    "            \n",
    "    return distribution\n",
    "            \n",
    "        "
   ]
  },
  {
   "cell_type": "code",
   "execution_count": 92,
   "metadata": {},
   "outputs": [
    {
     "name": "stdout",
     "output_type": "stream",
     "text": [
      "1\n",
      "2\n",
      "3\n",
      "4\n",
      "5\n",
      "6\n"
     ]
    }
   ],
   "source": [
    "dis_func(0,0,[1,2,3,4,5,6])"
   ]
  },
  {
   "cell_type": "code",
   "execution_count": null,
   "metadata": {},
   "outputs": [],
   "source": []
  },
  {
   "cell_type": "code",
   "execution_count": 31,
   "metadata": {},
   "outputs": [],
   "source": [
    "outcomes =all_possible_outcomes(fairdie1,fairdie2)"
   ]
  },
  {
   "cell_type": "code",
   "execution_count": 33,
   "metadata": {},
   "outputs": [],
   "source": [
    "Sum, Multi = transforn_mul_sum(outcomes)"
   ]
  },
  {
   "cell_type": "code",
   "execution_count": 35,
   "metadata": {},
   "outputs": [
    {
     "name": "stdout",
     "output_type": "stream",
     "text": [
      "[2, 3, 4, 5, 6, 7, 3, 4, 5, 6, 7, 8, 4, 5, 6, 7, 8, 9, 5, 6, 7, 8, 9, 10, 6, 7, 8, 9, 10, 11, 7, 8, 9, 10, 11, 12]\n",
      "[1, 2, 3, 4, 5, 6, 2, 4, 6, 8, 10, 12, 3, 6, 9, 12, 15, 18, 4, 8, 12, 16, 20, 24, 5, 10, 15, 20, 25, 30, 6, 12, 18, 24, 30, 36]\n"
     ]
    }
   ],
   "source": [
    "print(Sum)\n",
    "print(Multi)"
   ]
  },
  {
   "cell_type": "code",
   "execution_count": 25,
   "metadata": {},
   "outputs": [
    {
     "name": "stdout",
     "output_type": "stream",
     "text": [
      "[2, 3, 4, 5, 6, 7, 3, 4, 5, 6, 7, 8, 4, 5, 6, 7, 8, 9, 5, 6, 7, 8, 9, 10, 6, 7, 8, 9, 10, 11, 7, 8, 9, 10, 11, 12]\n",
      "\n",
      "[1, 2, 3, 4, 5, 6, 2, 4, 6, 8, 10, 12, 3, 6, 9, 12, 15, 18, 4, 8, 12, 16, 20, 24, 5, 10, 15, 20, 25, 30, 6, 12, 18, 24, 30, 36]\n"
     ]
    }
   ],
   "source": [
    "print(outcomes_sum)\n",
    "print()\n",
    "print(outcomes_multi)"
   ]
  },
  {
   "cell_type": "markdown",
   "metadata": {},
   "source": [
    "### Probability distribution of a discrete random variable"
   ]
  },
  {
   "cell_type": "code",
   "execution_count": 51,
   "metadata": {},
   "outputs": [
    {
     "name": "stdout",
     "output_type": "stream",
     "text": [
      "{2: 1, 3: 2, 4: 3, 5: 4, 6: 5, 7: 6, 8: 5, 9: 4, 10: 3, 11: 2, 12: 1}\n"
     ]
    }
   ],
   "source": [
    "# probability distribution with the sum of the two pairs of rolling two dies\n",
    "transform_to_sum = dis_mapping(Sum)\n",
    "print(transform_to_sum)"
   ]
  },
  {
   "cell_type": "code",
   "execution_count": 52,
   "metadata": {},
   "outputs": [
    {
     "name": "stdout",
     "output_type": "stream",
     "text": [
      "{1: 1, 2: 2, 3: 2, 4: 3, 5: 2, 6: 4, 8: 2, 10: 2, 12: 4, 9: 1, 15: 2, 18: 2, 16: 1, 20: 2, 24: 2, 25: 1, 30: 2, 36: 1}\n"
     ]
    }
   ],
   "source": [
    "# probability distribution with the Multi of the two pairs of rolling two dies\n",
    "transform_to_multi = dis_mapping(Multi)\n",
    "print(transform_to_multi)"
   ]
  },
  {
   "cell_type": "code",
   "execution_count": 62,
   "metadata": {},
   "outputs": [],
   "source": [
    "# max function which count the max value in the every outcomes of rolling two fairdies.\n",
    "# M:x -> R where max function map the set of x into set of real numbers which is discrete in nature.\n",
    "# M(s1,s2)-> max(s1,s2)\n",
    "\n",
    "count = []\n",
    "\n",
    "for i in outcomes:\n",
    "    \n",
    "    count.append(max(i))"
   ]
  },
  {
   "cell_type": "code",
   "execution_count": 54,
   "metadata": {},
   "outputs": [
    {
     "name": "stdout",
     "output_type": "stream",
     "text": [
      "[1, 2, 3, 4, 5, 6, 2, 2, 3, 4, 5, 6, 3, 3, 3, 4, 5, 6, 4, 4, 4, 4, 5, 6, 5, 5, 5, 5, 5, 6, 6, 6, 6, 6, 6, 6]\n"
     ]
    }
   ],
   "source": [
    "print(count)"
   ]
  },
  {
   "cell_type": "code",
   "execution_count": 63,
   "metadata": {},
   "outputs": [
    {
     "name": "stdout",
     "output_type": "stream",
     "text": [
      "{1: 1, 2: 3, 3: 5, 4: 7, 5: 9, 6: 11}\n"
     ]
    }
   ],
   "source": [
    "transform_to_max = dis_mapping(count)\n",
    "print(transform_to_max)"
   ]
  },
  {
   "cell_type": "markdown",
   "metadata": {},
   "source": [
    "## discrete random value distribution of sum function"
   ]
  },
  {
   "cell_type": "code",
   "execution_count": 47,
   "metadata": {},
   "outputs": [
    {
     "data": {
      "image/png": "[encoded data removed]",
      "text/plain": [
       "<Figure size 432x288 with 1 Axes>"
      ]
     },
     "metadata": {
      "needs_background": "light"
     },
     "output_type": "display_data"
    }
   ],
   "source": [
    "plt.hist(Sum,len(Sum))\n",
    "plt.show()"
   ]
  },
  {
   "cell_type": "markdown",
   "metadata": {},
   "source": [
    "## discrete random value distribution of multi function"
   ]
  },
  {
   "cell_type": "code",
   "execution_count": 48,
   "metadata": {},
   "outputs": [
    {
     "data": {
      "image/png": "[encoded data removed]",
      "text/plain": [
       "<Figure size 432x288 with 1 Axes>"
      ]
     },
     "metadata": {
      "needs_background": "light"
     },
     "output_type": "display_data"
    }
   ],
   "source": [
    "plt.hist(Multi, len(Multi))\n",
    "plt.show()"
   ]
  },
  {
   "cell_type": "markdown",
   "metadata": {},
   "source": [
    "## discrete random value distribution of Max function"
   ]
  },
  {
   "cell_type": "code",
   "execution_count": 87,
   "metadata": {},
   "outputs": [
    {
     "data": {
      "image/png": "[encoded data removed]",
      "text/plain": [
       "<Figure size 432x288 with 1 Axes>"
      ]
     },
     "metadata": {
      "needs_background": "light"
     },
     "output_type": "display_data"
    }
   ],
   "source": [
    "plt.hist(count,max(count),facecolor=\"green\", width=0.6)\n",
    "plt.show()"
   ]
  },
  {
   "cell_type": "code",
   "execution_count": 65,
   "metadata": {},
   "outputs": [
    {
     "name": "stdout",
     "output_type": "stream",
     "text": [
      "{1: 1, 2: 3, 3: 5, 4: 7, 5: 9, 6: 11}\n"
     ]
    }
   ],
   "source": [
    "print(transform_to_max)"
   ]
  },
  {
   "cell_type": "code",
   "execution_count": 86,
   "metadata": {},
   "outputs": [
    {
     "name": "stdout",
     "output_type": "stream",
     "text": [
      "dict_keys([1, 2, 3, 4, 5, 6])\n",
      "[0.027777777777777776, 0.08333333333333333, 0.1388888888888889, 0.19444444444444445, 0.25, 0.3055555555555556]\n"
     ]
    }
   ],
   "source": [
    "pmf = PMFD(transform_to_max, len(outcomes))    \n",
    "print(transform_to_max.keys())\n",
    "print(pmf)"
   ]
  },
  {
   "cell_type": "code",
   "execution_count": 85,
   "metadata": {},
   "outputs": [
    {
     "data": {
      "image/png": "[encoded data removed]",
      "text/plain": [
       "<Figure size 432x288 with 1 Axes>"
      ]
     },
     "metadata": {
      "needs_background": "light"
     },
     "output_type": "display_data"
    }
   ],
   "source": [
    "plt.bar(transform_to_max.keys(), pmf ,  width = 0.4) \n",
    "plt.title(\"Probability mass function p(a)\")\n",
    "plt.show()"
   ]
  },
  {
   "cell_type": "markdown",
   "metadata": {},
   "source": [
    "## Distribution function of the transform to max"
   ]
  },
  {
   "cell_type": "code",
   "execution_count": 95,
   "metadata": {},
   "outputs": [
    {
     "name": "stdout",
     "output_type": "stream",
     "text": [
      "Probability distribution set {1: 1, 2: 3, 3: 5, 4: 7, 5: 9, 6: 11}\n",
      "Total outcomes 36\n"
     ]
    }
   ],
   "source": [
    "probability_distribution_set = transform_to_max\n",
    "print(\"Probability distribution set\",probability_distribution_set)\n",
    "print(\"Total outcomes\",len(outcomes))"
   ]
  },
  {
   "cell_type": "code",
   "execution_count": 104,
   "metadata": {},
   "outputs": [
    {
     "name": "stdout",
     "output_type": "stream",
     "text": [
      "[0.027777777777777776, 0.08333333333333333, 0.1388888888888889, 0.19444444444444445, 0.25, 0.3055555555555556]\n"
     ]
    }
   ],
   "source": [
    "pmf = PMFD(transform_to_max, len(outcomes)) \n",
    "print(pmf)"
   ]
  },
  {
   "cell_type": "code",
   "execution_count": 108,
   "metadata": {},
   "outputs": [
    {
     "name": "stdout",
     "output_type": "stream",
     "text": [
      "[0.027777777777777776, 0.1111111111111111, 0.25, 0.4444444444444444, 0.6944444444444444, 1.0]\n"
     ]
    }
   ],
   "source": [
    "dis_F = dis_func(pmf,probability_distribution_set.keys())\n",
    "print(dis_F)"
   ]
  },
  {
   "cell_type": "code",
   "execution_count": 116,
   "metadata": {},
   "outputs": [
    {
     "data": {
      "image/png": "[encoded data removed]",
      "text/plain": [
       "<Figure size 432x288 with 1 Axes>"
      ]
     },
     "metadata": {
      "needs_background": "light"
     },
     "output_type": "display_data"
    }
   ],
   "source": [
    "plt.bar(probability_distribution_set.keys(), dis_F, width = 0.4)\n",
    "plt.title(\"Distribution Function F(a)\")\n",
    "plt.show()"
   ]
  },
  {
   "cell_type": "code",
   "execution_count": null,
   "metadata": {},
   "outputs": [],
   "source": []
  }
 ],
 "metadata": {
  "kernelspec": {
   "display_name": "Python 3",
   "language": "python",
   "name": "python3"
  },
  "language_info": {
   "codemirror_mode": {
    "name": "ipython",
    "version": 3
   },
   "file_extension": ".py",
   "mimetype": "text/x-python",
   "name": "python",
   "nbconvert_exporter": "python",
   "pygments_lexer": "ipython3",
   "version": "3.8.3"
  }
 },
 "nbformat": 4,
 "nbformat_minor": 4
}
